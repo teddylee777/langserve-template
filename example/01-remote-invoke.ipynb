{
 "cells": [
  {
   "cell_type": "code",
   "execution_count": null,
   "metadata": {},
   "outputs": [],
   "source": [
    "from langserve import RemoteRunnable\n",
    "\n",
    "chain = RemoteRunnable(\n",
    "    \"https://langserve-template-ee9acafba005.herokuapp.com/prompt/c/N4XyA\"\n",
    ")\n",
    "\n",
    "for token in chain.stream(\n",
    "    {\"task\": \"SNS 게시글 작성을 요청하는 프롬프트를 생성하고 싶어. 한글로 작성해줘.\"}\n",
    "):\n",
    "    print(token, end=\"\")"
   ]
  },
  {
   "cell_type": "code",
   "execution_count": 4,
   "metadata": {},
   "outputs": [
    {
     "name": "stdout",
     "output_type": "stream",
     "text": [
      "Given the following conversation and a follow up question, rephrase the \n",
      "follow up question to be a standalone question, in its original language.\n",
      "\n",
      "Chat History:\n",
      "{chat_history}\n",
      "Follow Up Input: {question}\n",
      "Standalone question:\n"
     ]
    }
   ],
   "source": [
    "print(\n",
    "    \"Given the following conversation and a follow up question, rephrase the \"\n",
    "    + \"\\nfollow up question to be a standalone question, in its original language.\"\n",
    "    + \"\\n\"\n",
    "    + \"\\nChat History:\"\n",
    "    + \"\\n{chat_history}\"\n",
    "    + \"\\nFollow Up Input: {question}\"\n",
    "    + \"\\nStandalone question:\")"
   ]
  }
 ],
 "metadata": {
  "kernelspec": {
   "display_name": "py-test",
   "language": "python",
   "name": "python3"
  },
  "language_info": {
   "codemirror_mode": {
    "name": "ipython",
    "version": 3
   },
   "file_extension": ".py",
   "mimetype": "text/x-python",
   "name": "python",
   "nbconvert_exporter": "python",
   "pygments_lexer": "ipython3",
   "version": "3.11.9"
  }
 },
 "nbformat": 4,
 "nbformat_minor": 2
}
